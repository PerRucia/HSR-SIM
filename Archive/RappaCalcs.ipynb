{
 "cells": [
  {
   "cell_type": "markdown",
   "metadata": {},
   "source": [
    "### Item Imports (Run this first!)"
   ]
  },
  {
   "cell_type": "code",
   "execution_count": 15,
   "metadata": {
    "ExecuteTime": {
     "end_time": "2024-09-13T11:42:48.619551Z",
     "start_time": "2024-09-13T11:42:48.470686Z"
    }
   },
   "outputs": [],
   "source": [
    "from Enemy import EnemyModule\n",
    "from Misc import *\n",
    "from RelicStats import *\n",
    "from CombatSim import startSimulator\n",
    "import os\n",
    "\n",
    "folders = [\"Characters\", \"Lightcones\", \"Relics\", \"Planars\"]\n",
    "\n",
    "for folder in folders:\n",
    "    modules = [f[:-3] for f in os.listdir(folder) if f.endswith('.py') and f != '__init__.py']\n",
    "\n",
    "    init_file = os.path.join(folder, '__init__.py')\n",
    "    with open(init_file, 'w') as f:\n",
    "        for module_name in modules:\n",
    "            f.write(f\"from .{module_name} import *\\n\")\n"
   ]
  },
  {
   "cell_type": "markdown",
   "metadata": {},
   "source": [
    "### Testing Setup"
   ]
  },
  {
   "cell_type": "code",
   "execution_count": 16,
   "metadata": {
    "ExecuteTime": {
     "end_time": "2024-09-13T11:42:48.645865Z",
     "start_time": "2024-09-13T11:42:48.638550Z"
    }
   },
   "outputs": [],
   "source": [
    "import Lightcones\n",
    "import Characters\n",
    "import Relics\n",
    "import Planars\n",
    "\n",
    "fiveEnemies = EnemyModule(5, [85, 85, 85, 85, 85], [EnemyType.ADD, EnemyType.ELITE, EnemyType.BOSS, EnemyType.ADD, EnemyType.ADD], [100, 120, 144, 100, 100], [20, 60, 70, 20, 20], atkRatio, [Element.IMAGINARY], [1])\n",
    "twoEnemies = EnemyModule(2, [95, 95], [EnemyType.BOSS, EnemyType.ELITE], [158.4, 145.2], [160, 100], atkRatio, [Element.IMAGINARY], [1, 1, 2])\n",
    "\n",
    "cycles = 5\n",
    "cyclesFifty = 50\n"
   ]
  },
  {
   "cell_type": "markdown",
   "metadata": {},
   "source": [
    "### Teams"
   ]
  },
  {
   "cell_type": "code",
   "execution_count": 17,
   "metadata": {
    "ExecuteTime": {
     "end_time": "2024-09-13T11:42:49.753357Z",
     "start_time": "2024-09-13T11:42:48.787720Z"
    }
   },
   "outputs": [
    {
     "name": "stdout",
     "output_type": "stream",
     "text": [
      "Standard Rappa Team, S1 Ninjitsu\n",
      "DPAV: 10644.932 | SP Used: 15, SP Gain: 18 | 5 enemies\n",
      "DPAV: 5759.718 | SP Used: 16, SP Gain: 19 | 2 enemies\n",
      "\n",
      "Rappa RM HMC Lingsha\n",
      "DPAV: 12193.580 | SP Used: 15, SP Gain: 16 | 5 enemies\n",
      "DPAV: 6579.471 | SP Used: 15, SP Gain: 16 | 2 enemies\n",
      "\n",
      "Rappa RM HMC Luo\n",
      "DPAV: 9179.069 | SP Used: 17, SP Gain: 17 | 5 enemies\n",
      "DPAV: 5020.830 | SP Used: 16, SP Gain: 17 | 2 enemies\n",
      "\n",
      "Rappa RM HMC Aven\n",
      "DPAV: 9391.387 | SP Used: 15, SP Gain: 14 | 5 enemies\n",
      "DPAV: 5139.263 | SP Used: 16, SP Gain: 14 | 2 enemies\n",
      "\n",
      "Rappa RM HMC FX\n",
      "DPAV: 7902.517 | SP Used: 16, SP Gain: 14 | 5 enemies\n",
      "DPAV: 4275.570 | SP Used: 16, SP Gain: 14 | 2 enemies\n",
      "\n",
      "Rappa RM HMC Huo\n",
      "DPAV: 8070.159 | SP Used: 16, SP Gain: 14 | 5 enemies\n",
      "DPAV: 4388.114 | SP Used: 15, SP Gain: 15 | 2 enemies\n",
      "\n",
      "Rappa Pela HMC Gal\n",
      "DPAV: 8635.344 | SP Used: 17, SP Gain: 18 | 5 enemies\n",
      "DPAV: 4114.255 | SP Used: 17, SP Gain: 18 | 2 enemies\n",
      "\n",
      "Rappa RM HMC March\n",
      "DPAV: 11145.315 | SP Used: 17, SP Gain: 13 | 5 enemies\n",
      "DPAV: 7169.863 | SP Used: 17, SP Gain: 13 | 2 enemies\n",
      "\n",
      "FF Rappa HMC Gal\n",
      "DPAV: 9855.690 | SP Used: 18, SP Gain: 18 | 5 enemies\n",
      "DPAV: 6619.300 | SP Used: 18, SP Gain: 19 | 2 enemies\n",
      "\n"
     ]
    }
   ],
   "source": [
    "tst = [fiveEnemies, twoEnemies]\n",
    "text = [\"| 5 enemies\", \"| 2 enemies\"]\n",
    "\n",
    "print(\"Standard Rappa Team, S1 Ninjitsu\")\n",
    "for i in range(len(tst)):\n",
    "    rappa = Characters.Rappa(0, Role.DPS, 0, targetPrio=Priority.BROKEN)\n",
    "    rm = Characters.RuanMei(1, Role.SUP1, 0, targetPrio=Priority.BROKEN)\n",
    "    hmc = Characters.HatBlazer(2, Role.SUP2, 0, eidolon=6, targetPrio=Priority.BROKEN, rotation=[\"E\"])\n",
    "    gal = Characters.Gallagher(3, Role.SUS, 0, eidolon=6, targetPrio=Priority.BROKEN)\n",
    "    print(startSimulator(cycles, s1=rappa, s2=rm, s3=hmc, s4=gal, enemyModule=tst[i]), text[i])\n",
    "print()\n",
    "\n",
    "print(\"Rappa RM HMC Lingsha\")\n",
    "for i in range(len(tst)):\n",
    "    rappa = Characters.Rappa(0, Role.DPS, 0, targetPrio=Priority.BROKEN)\n",
    "    rm = Characters.RuanMei(1, Role.SUP1, 0, targetPrio=Priority.BROKEN)\n",
    "    hmc = Characters.HatBlazer(2, Role.SUP2, 0, eidolon=6, targetPrio=Priority.BROKEN, rotation=[\"E\", \"A\"])\n",
    "    lingsha = Characters.Lingsha(3, Role.SUS, 0, eidolon=0, targetPrio=Priority.BROKEN, rotation=[\"E\", \"A\", \"A\"])\n",
    "    print(startSimulator(cycles, s1=rappa, s2=rm, s3=hmc, s4=lingsha, enemyModule=tst[i]), text[i])\n",
    "print()\n",
    "\n",
    "print(\"Rappa RM HMC Luo\")\n",
    "for i in range(len(tst)):\n",
    "    rappa = Characters.Rappa(0, Role.DPS, 0, targetPrio=Priority.BROKEN)\n",
    "    rm = Characters.RuanMei(1, Role.SUP1, 0, targetPrio=Priority.BROKEN)\n",
    "    hmc = Characters.HatBlazer(2, Role.SUP2, 0, eidolon=6, targetPrio=Priority.BROKEN, rotation=[\"E\"])\n",
    "    luo = Characters.Luocha(3, Role.SUS, 0, eidolon=0, targetPrio=Priority.BROKEN)\n",
    "    print(startSimulator(cycles, s1=rappa, s2=rm, s3=hmc, s4=luo, enemyModule=tst[i]), text[i])\n",
    "print()\n",
    "\n",
    "print(\"Rappa RM HMC Aven\")\n",
    "for i in range(len(tst)):\n",
    "    rappa = Characters.Rappa(0, Role.DPS, 0, targetPrio=Priority.BROKEN)\n",
    "    rm = Characters.RuanMei(1, Role.SUP1, 0, targetPrio=Priority.BROKEN)\n",
    "    hmc = Characters.HatBlazer(2, Role.SUP2, 0, eidolon=6, targetPrio=Priority.BROKEN, rotation=[\"E\"])\n",
    "    aven = Characters.Aventurine(3, Role.SUS, 0, eidolon=0, targetPrio=Priority.BROKEN)\n",
    "    print(startSimulator(cycles, s1=rappa, s2=rm, s3=hmc, s4=aven, enemyModule=tst[i]), text[i])\n",
    "print()\n",
    "\n",
    "print(\"Rappa RM HMC FX\")\n",
    "for i in range(len(tst)):\n",
    "    rappa = Characters.Rappa(0, Role.DPS, 0, targetPrio=Priority.BROKEN)\n",
    "    rm = Characters.RuanMei(1, Role.SUP1, 0, targetPrio=Priority.BROKEN)\n",
    "    hmc = Characters.HatBlazer(2, Role.SUP2, 0, eidolon=6, targetPrio=Priority.BROKEN, rotation=[\"E\", \"E\", \"A\"])\n",
    "    fx = Characters.Fuxuan(3, Role.SUS, 0, eidolon=0, targetPrio=Priority.BROKEN)\n",
    "    print(startSimulator(cycles, s1=rappa, s2=rm, s3=hmc, s4=fx, enemyModule=tst[i]), text[i])\n",
    "print()\n",
    "\n",
    "print(\"Rappa RM HMC Huo\")\n",
    "for i in range(len(tst)):\n",
    "    rappa = Characters.Rappa(0, Role.DPS, 0, targetPrio=Priority.BROKEN)\n",
    "    rm = Characters.RuanMei(1, Role.SUP1, 0, targetPrio=Priority.BROKEN)\n",
    "    hmc = Characters.HatBlazer(2, Role.SUP2, 0, eidolon=6, targetPrio=Priority.BROKEN, rotation=[\"E\", \"E\", \"A\"])\n",
    "    huo = Characters.HuoHuo(3, Role.SUS, 0, eidolon=0, targetPrio=Priority.BROKEN, rotation=[\"E\", \"A\", \"A\"])\n",
    "    print(startSimulator(cycles, s1=rappa, s2=rm, s3=hmc, s4=fx, enemyModule=tst[i]), text[i])\n",
    "print()\n",
    "\n",
    "print(\"Rappa Pela HMC Gal\")\n",
    "for i in range(len(tst)):\n",
    "    rappa = Characters.Rappa(0, Role.DPS, 0, targetPrio=Priority.BROKEN)\n",
    "    pela = Characters.Pela(1, Role.SUP1, 0, targetPrio=Priority.BROKEN)\n",
    "    hmc = Characters.HatBlazer(2, Role.SUP2, 0, eidolon=6, targetPrio=Priority.BROKEN, rotation=[\"E\"])\n",
    "    gal = Characters.Gallagher(3, Role.SUS, 0, eidolon=6, targetPrio=Priority.BROKEN)\n",
    "    print(startSimulator(cycles, s1=rappa, s2=pela, s3=hmc, s4=gal, enemyModule=tst[i]), text[i])\n",
    "print()\n",
    "\n",
    "print(\"Rappa RM HMC March\")\n",
    "marchRelics = RelicStats(10, 4, 0, 4, 4, 0, 4, 14, 4, 4, 0, 0, Pwr.ATK_PERCENT, Pwr.SPD, Pwr.ATK_PERCENT, Pwr.BE_PERCENT)\n",
    "marchPlanar = Planars.Talia(Role.SUS)\n",
    "shadowed = Lightcones.Shadowed(Role.SUS, level=5)\n",
    "for i in range(len(tst)):\n",
    "    rappa = Characters.Rappa(0, Role.DPS, 0, targetPrio=Priority.BROKEN)\n",
    "    rm = Characters.RuanMei(1, Role.SUP1, 0, targetPrio=Priority.BROKEN)\n",
    "    hmc = Characters.HatBlazer(2, Role.SUP2, 0, eidolon=6, targetPrio=Priority.BROKEN, rotation=[\"E\"])\n",
    "    march = Characters.Hunt7th(1, Role.SUS, 0, targetPrio=Priority.BROKEN, lc=shadowed, subs=marchRelics, pl=marchPlanar)\n",
    "    print(startSimulator(cycles, s1=rappa, s2=rm, s3=hmc, s4=march, enemyModule=tst[i]), text[i])\n",
    "print()\n",
    "\n",
    "print(\"FF Rappa HMC Gal\")\n",
    "fiveEnemiesFF = EnemyModule(5, [85, 85, 85, 85, 85], [EnemyType.ADD, EnemyType.ELITE, EnemyType.BOSS, EnemyType.ADD, EnemyType.ADD], [100, 120, 144, 100, 100], [20, 60, 70, 20, 20], atkRatio, [Element.IMAGINARY, Element.FIRE], [1])\n",
    "twoEnemiesFF = EnemyModule(2, [95, 95], [EnemyType.BOSS, EnemyType.ELITE], [158.4, 145.2], [160, 100], atkRatio, [Element.IMAGINARY, Element.FIRE], [1, 1, 2])\n",
    "ffEnemies = [fiveEnemiesFF, twoEnemiesFF]\n",
    "for i in range(len(tst)):\n",
    "    rappa = Characters.Rappa(0, Role.DPS, 0, targetPrio=Priority.BROKEN)\n",
    "    ff = Characters.Firefly(1, Role.SUBDPS, 0, targetPrio=Priority.BROKEN)\n",
    "    hmc = Characters.HatBlazer(2, Role.SUP2, 0, eidolon=6, targetPrio=Priority.BROKEN, rotation=[\"E\", \"A\", \"A\"])\n",
    "    gal = Characters.Gallagher(3, Role.SUS, 0, eidolon=6, targetPrio=Priority.BROKEN)\n",
    "    print(startSimulator(cycles, s1=rappa, s2=ff, s3=hmc, s4=gal, enemyModule=ffEnemies[i]), text[i])\n",
    "print()"
   ]
  },
  {
   "cell_type": "markdown",
   "metadata": {},
   "source": [
    "### Lightcones"
   ]
  },
  {
   "cell_type": "code",
   "execution_count": 18,
   "metadata": {
    "ExecuteTime": {
     "end_time": "2024-09-13T11:57:09.826023Z",
     "start_time": "2024-09-13T11:57:04.024094Z"
    }
   },
   "outputs": [
    {
     "name": "stdout",
     "output_type": "stream",
     "text": [
      "DPAV: 10644.932 | SP Used: 15, SP Gain: 18 | Ninjitsu Inscription: Dazzling Evilbreaker <5 enemies>\n",
      "DPAV: 9259.834 | SP Used: 16, SP Gain: 18 | After the Charmony Fall <5 enemies>\n",
      "DPAV: 8577.983 | SP Used: 16, SP Gain: 18 | Eternal Calculus <5 enemies>\n",
      "DPAV: 8540.663 | SP Used: 16, SP Gain: 18 | Night on the Milky Way <5 enemies>\n",
      "DPAV: 8589.795 | SP Used: 16, SP Gain: 18 | The Seriousness of Breakfast <5 enemies>\n",
      "DPAV: 8535.057 | SP Used: 16, SP Gain: 18 | Geniuses' Repose <5 enemies>\n",
      "DPAV: 8526.521 | SP Used: 16, SP Gain: 18 | The Day the Cosmos Fell <5 enemies>\n",
      "DPAV: 8896.300 | SP Used: 16, SP Gain: 18 | After the Charmony Fall <5 enemies>\n",
      "DPAV: 9363.378 | SP Used: 15, SP Gain: 19 | Make the World Clamor <5 enemies>\n",
      "DPAV: 8829.307 | SP Used: 15, SP Gain: 18 | Passkey <5 enemies>\n",
      "\n",
      "DPAV: 5759.718 | SP Used: 16, SP Gain: 19 | Ninjitsu Inscription: Dazzling Evilbreaker <2 enemies>\n",
      "DPAV: 5427.879 | SP Used: 16, SP Gain: 18 | After the Charmony Fall <2 enemies>\n",
      "DPAV: 5082.744 | SP Used: 15, SP Gain: 18 | Passkey <2 enemies>\n",
      "DPAV: 5233.372 | SP Used: 16, SP Gain: 18 | After the Charmony Fall <2 enemies>\n",
      "DPAV: 5156.762 | SP Used: 16, SP Gain: 18 | Make the World Clamor <2 enemies>\n",
      "DPAV: 5157.619 | SP Used: 16, SP Gain: 19 | The Seriousness of Breakfast <2 enemies>\n",
      "DPAV: 5129.763 | SP Used: 16, SP Gain: 19 | Night on the Milky Way <2 enemies>\n",
      "DPAV: 5133.387 | SP Used: 16, SP Gain: 19 | Eternal Calculus <2 enemies>\n",
      "DPAV: 5130.807 | SP Used: 16, SP Gain: 19 | Geniuses' Repose <2 enemies>\n",
      "DPAV: 5126.626 | SP Used: 16, SP Gain: 19 | The Day the Cosmos Fell <2 enemies>\n"
     ]
    }
   ],
   "source": [
    "sig = Lightcones.Ninjitsu(Role.DPS, 1)\n",
    "f2p = Lightcones.CalculusRappa(Role.DPS, 5)\n",
    "breakfast = Lightcones.Breakfast(Role.DPS, 5)\n",
    "charmony = Lightcones.Charmony(Role.DPS, 5)\n",
    "charmony2 = Lightcones.Charmony(Role.DPS, 1)\n",
    "clamor = Lightcones.Clamor(Role.DPS, 5)\n",
    "cosmos = Lightcones.CosmosRappa(Role.DPS, 5)\n",
    "milkyway = Lightcones.MilkyWay(Role.DPS, 1)\n",
    "passkey = Lightcones.Passkey(Role.DPS, 5)\n",
    "repose = Lightcones.Repose(Role.DPS, 5)\n",
    "lc = [sig, charmony, f2p, milkyway, breakfast, repose, cosmos, charmony2, clamor, passkey]\n",
    "second = [sig, charmony, passkey, charmony2, clamor, breakfast, milkyway, f2p, repose, cosmos]\n",
    "\n",
    "for i in range(len(lc)):\n",
    "    rappa = Characters.Rappa(0, Role.DPS, 0, lc=lc[i], eidolon=0, targetPrio=Priority.BROKEN)\n",
    "    rm = Characters.RuanMei(1, Role.SUP1, 0, eidolon=0, targetPrio=Priority.BROKEN)\n",
    "    hmc = Characters.HatBlazer(2, Role.SUP2, 0, eidolon=6, targetPrio=Priority.BROKEN, rotation=[\"E\"])\n",
    "    gal = Characters.Gallagher(3, Role.SUS, 0, eidolon=6, targetPrio=Priority.BROKEN)\n",
    "    print(startSimulator(cycles, s1=rappa, s2=rm, s3=hmc, s4=gal, enemyModule=fiveEnemies) + f\" | {lc[i].name } <5 enemies>\")\n",
    "print()\n",
    "\n",
    "for i in range(len(lc)):\n",
    "    rappa = Characters.Rappa(0, Role.DPS, 0, lc=second[i], eidolon=0, targetPrio=Priority.BROKEN)\n",
    "    rm = Characters.RuanMei(1, Role.SUP1, 0, eidolon=0, targetPrio=Priority.BROKEN)\n",
    "    hmc = Characters.HatBlazer(2, Role.SUP2, 0, eidolon=6, targetPrio=Priority.BROKEN, rotation=[\"E\"])\n",
    "    gal = Characters.Gallagher(3, Role.SUS, 0, eidolon=6, targetPrio=Priority.BROKEN)\n",
    "    print(startSimulator(cycles, s1=rappa, s2=rm, s3=hmc, s4=gal, enemyModule=twoEnemies) + f\" | {second[i].name } <2 enemies>\")"
   ]
  },
  {
   "cell_type": "markdown",
   "metadata": {},
   "source": [
    "### Relics"
   ]
  },
  {
   "cell_type": "code",
   "execution_count": 19,
   "metadata": {
    "ExecuteTime": {
     "end_time": "2024-09-13T11:42:57.083851Z",
     "start_time": "2024-09-13T11:42:54.568969Z"
    }
   },
   "outputs": [
    {
     "name": "stdout",
     "output_type": "stream",
     "text": [
      "DPAV: 10644.932 | SP Used: 15, SP Gain: 18 | Iron Cavalry Against the Scourge (4-pc), None <5 enemies>\n",
      "DPAV: 9956.892 | SP Used: 16, SP Gain: 19 | Eagle of Twilight Line (4-pc), None <5 enemies>\n",
      "DPAV: 10128.325 | SP Used: 15, SP Gain: 19 | Iron Cavalry Against the Scourge (2-pc), Messenger Traversing Hackerspace (2-pc) <5 enemies>\n",
      "DPAV: 10109.357 | SP Used: 15, SP Gain: 19 | Thief of Shooting Meteor (4-pc), None <5 enemies>\n",
      "DPAV: 10109.357 | SP Used: 15, SP Gain: 19 | Iron Cavalry Against the Scourge (2-pc), Thief of Shooting Meteor (2-pc) <5 enemies>\n",
      "DPAV: 9887.227 | SP Used: 15, SP Gain: 18 | Iron Cavalry Against the Scourge (2-pc), None <5 enemies>\n",
      "DPAV: 9684.368 | SP Used: 15, SP Gain: 18 | No Relic Set Bonuses (4-pc), None <5 enemies>\n",
      "\n",
      "DPAV: 5759.718 | SP Used: 16, SP Gain: 19 | Iron Cavalry Against the Scourge (4-pc), None <2 enemies>\n",
      "DPAV: 6251.526 | SP Used: 16, SP Gain: 19 | Eagle of Twilight Line (4-pc), None <2 enemies>\n",
      "DPAV: 5606.651 | SP Used: 16, SP Gain: 19 | Iron Cavalry Against the Scourge (2-pc), Messenger Traversing Hackerspace (2-pc) <2 enemies>\n",
      "DPAV: 6107.366 | SP Used: 15, SP Gain: 19 | Thief of Shooting Meteor (4-pc), None <2 enemies>\n",
      "DPAV: 5598.162 | SP Used: 16, SP Gain: 19 | Iron Cavalry Against the Scourge (2-pc), Thief of Shooting Meteor (2-pc) <2 enemies>\n",
      "DPAV: 5410.214 | SP Used: 16, SP Gain: 19 | Iron Cavalry Against the Scourge (2-pc), None <2 enemies>\n",
      "DPAV: 5440.653 | SP Used: 16, SP Gain: 18 | No Relic Set Bonuses (4-pc), None <2 enemies>\n"
     ]
    }
   ],
   "source": [
    "cav = Relics.CavalryRappa(Role.DPS, 4)\n",
    "thief = Relics.Thief(Role.DPS, 4)\n",
    "thief2 = Relics.Thief(Role.DPS, 2)\n",
    "cav2 = Relics.CavalryRappa(Role.DPS, 2)\n",
    "eagle = Relics.Eagle(Role.DPS, 4, Element.IMAGINARY)\n",
    "msg = Relics.Messenger(Role.DPS, 2, False)\n",
    "noSet = Relics.NoSet(Role.DPS, 4)\n",
    "\n",
    "fiveR1 = [cav, eagle, cav2, thief, cav2, cav2, noSet]\n",
    "fiveR2 = [None, None, msg, None, thief2, None, None]\n",
    "\n",
    "sub1 = RelicStats(10, 4, 0, 4, 4, 5, 4, 9, 4, 4, 0, 0, Pwr.ATK_PERCENT, Pwr.SPD, Pwr.ATK_PERCENT, Pwr.BE_PERCENT)\n",
    "sub2 = RelicStats(7, 4, 0, 4, 4, 5, 4, 12, 4, 4, 0, 0, Pwr.ATK_PERCENT, Pwr.SPD, Pwr.ATK_PERCENT, Pwr.BE_PERCENT)\n",
    "\n",
    "for i in range(len(fiveR1)):\n",
    "    sub = sub2 if fiveR2[i] == msg else sub1\n",
    "    rappa = Characters.Rappa(0, Role.DPS, 0, eidolon=0, targetPrio=Priority.BROKEN, r1=fiveR1[i], r2=fiveR2[i], subs=sub)\n",
    "    rm = Characters.RuanMei(1, Role.SUP1, 0, eidolon=0, targetPrio=Priority.BROKEN)\n",
    "    hmc = Characters.HatBlazer(2, Role.SUP2, 0, eidolon=6, targetPrio=Priority.BROKEN, rotation=[\"E\"])\n",
    "    gal = Characters.Gallagher(3, Role.SUS, 0, eidolon=6, targetPrio=Priority.BROKEN)\n",
    "    print(startSimulator(cycles, s1=rappa, s2=rm, s3=hmc, s4=gal, enemyModule=fiveEnemies) + f\" | {fiveR1[i]}, {fiveR2[i]} <5 enemies>\")\n",
    "print()\n",
    "\n",
    "cav = Relics.CavalryRappa(Role.DPS, 4)\n",
    "thief = Relics.Thief(Role.DPS, 4)\n",
    "thief2 = Relics.Thief(Role.DPS, 2)\n",
    "cav2 = Relics.CavalryRappa(Role.DPS, 2)\n",
    "eagle = Relics.Eagle(Role.DPS, 4, Element.IMAGINARY)\n",
    "msg = Relics.Messenger(Role.DPS, 2, False)\n",
    "noSet = Relics.NoSet(Role.DPS, 4)\n",
    "\n",
    "fiveR1 = [cav, eagle, cav2, thief, cav2, cav2, noSet]\n",
    "fiveR2 = [None, None, msg, None, thief2, None, None]\n",
    "\n",
    "for a in range(len(fiveR1)):\n",
    "    sub = sub2 if fiveR2[a] == msg else sub1\n",
    "    rap = Characters.Rappa(0, Role.DPS, 0, eidolon=0, targetPrio=Priority.BROKEN, r1=fiveR1[a], r2=fiveR2[a], subs=sub)\n",
    "    rm = Characters.RuanMei(1, Role.SUP1, 0, eidolon=0, targetPrio=Priority.BROKEN)\n",
    "    hmc = Characters.HatBlazer(2, Role.SUP2, 0, eidolon=6, targetPrio=Priority.BROKEN, rotation=[\"E\"])\n",
    "    gal = Characters.Gallagher(3, Role.SUS, 0, eidolon=6, targetPrio=Priority.BROKEN)\n",
    "    print(startSimulator(cycles, s1=rap, s2=rm, s3=hmc, s4=gal, enemyModule=twoEnemies) + f\" | {fiveR1[a]}, {fiveR2[a]} <2 enemies>\")"
   ]
  },
  {
   "cell_type": "markdown",
   "metadata": {},
   "source": [
    "### Planars"
   ]
  },
  {
   "cell_type": "code",
   "execution_count": 20,
   "metadata": {
    "ExecuteTime": {
     "end_time": "2024-09-13T11:42:59.292695Z",
     "start_time": "2024-09-13T11:42:57.096957Z"
    }
   },
   "outputs": [
    {
     "name": "stdout",
     "output_type": "stream",
     "text": [
      "DPAV: 10644.932 | SP Used: 15, SP Gain: 18 | Forge of the Kalpagni Lantern <5 enemies>\n",
      "DPAV: 10133.831 | SP Used: 15, SP Gain: 18 | Forge of the Kalpagni Lantern <5 enemies>\n",
      "DPAV: 9935.120 | SP Used: 15, SP Gain: 18 | Sprightly Vonwacq <5 enemies>\n",
      "DPAV: 10424.844 | SP Used: 15, SP Gain: 18 | Talia: Kingdom of Banditry <5 enemies>\n",
      "DPAV: 8961.414 | SP Used: 16, SP Gain: 19 | No Planar Set Bonuses <5 enemies>\n",
      "\n",
      "DPAV: 5759.718 | SP Used: 16, SP Gain: 19 | Forge of the Kalpagni Lantern <2 enemies>\n",
      "DPAV: 5667.754 | SP Used: 16, SP Gain: 18 | Forge of the Kalpagni Lantern <2 enemies>\n",
      "DPAV: 5734.099 | SP Used: 16, SP Gain: 18 | Sprightly Vonwacq <2 enemies>\n",
      "DPAV: 5786.190 | SP Used: 16, SP Gain: 18 | Talia: Kingdom of Banditry <2 enemies>\n",
      "DPAV: 5352.378 | SP Used: 16, SP Gain: 19 | No Planar Set Bonuses <2 enemies>\n"
     ]
    }
   ],
   "source": [
    "kalFire = Planars.KalpagniRappa(Role.DPS, True)\n",
    "kal = Planars.KalpagniRappa(Role.DPS, False)\n",
    "talia = Planars.Talia(Role.DPS, 150)\n",
    "von = Planars.Vonwacq(Role.DPS)\n",
    "noSet = Planars.NoSet(Role.DPS)\n",
    "\n",
    "sub1 = RelicStats(10, 4, 0, 4, 4, 5, 4, 9, 4, 4, 0, 0, Pwr.ATK_PERCENT, Pwr.SPD, Pwr.ATK_PERCENT, Pwr.BE_PERCENT)\n",
    "sub2 = RelicStats(13, 4, 0, 4, 4, 5, 4, 6, 4, 4, 0, 0, Pwr.ATK_PERCENT, Pwr.SPD, Pwr.ATK_PERCENT, Pwr.BE_PERCENT)\n",
    "\n",
    "planars = [kalFire, kal, von, talia, noSet]\n",
    "for i in range(len(planars)):\n",
    "    sub = sub2 if planars[i] == talia else sub1\n",
    "    rappa = Characters.Rappa(0, Role.DPS, 0, eidolon=0, targetPrio=Priority.BROKEN, pl=planars[i], subs=sub)\n",
    "    rm = Characters.RuanMei(1, Role.SUP1, 0, eidolon=0, targetPrio=Priority.BROKEN)\n",
    "    hmc = Characters.HatBlazer(2, Role.SUP2, 0, eidolon=6, targetPrio=Priority.BROKEN, rotation=[\"E\"])\n",
    "    gal = Characters.Gallagher(3, Role.SUS, 0, eidolon=6, targetPrio=Priority.BROKEN)\n",
    "    print(startSimulator(cycles, s1=rappa, s2=rm, s3=hmc, s4=gal, enemyModule=fiveEnemies) + f\" | {planars[i]} <5 enemies>\")\n",
    "print()\n",
    "\n",
    "for i in range(len(planars)):\n",
    "    sub = sub2 if planars[i] == talia else sub1\n",
    "    rappa = Characters.Rappa(0, Role.DPS, 0, eidolon=0, targetPrio=Priority.BROKEN, pl=planars[i], subs=sub)\n",
    "    rm = Characters.RuanMei(1, Role.SUP1, 0, eidolon=0, targetPrio=Priority.BROKEN)\n",
    "    hmc = Characters.HatBlazer(2, Role.SUP2, 0, eidolon=6, targetPrio=Priority.BROKEN, rotation=[\"E\"])\n",
    "    gal = Characters.Gallagher(3, Role.SUS, 0, eidolon=6, targetPrio=Priority.BROKEN)\n",
    "    print(startSimulator(cycles, s1=rappa, s2=rm, s3=hmc, s4=gal, enemyModule=twoEnemies) + f\" | {planars[i]} <2 enemies>\")"
   ]
  },
  {
   "cell_type": "markdown",
   "metadata": {},
   "source": [
    "### Eidolons"
   ]
  },
  {
   "cell_type": "code",
   "execution_count": 21,
   "metadata": {
    "ExecuteTime": {
     "end_time": "2024-09-13T11:43:03.039215Z",
     "start_time": "2024-09-13T11:42:59.303611Z"
    }
   },
   "outputs": [
    {
     "name": "stdout",
     "output_type": "stream",
     "text": [
      "DPAV: 16526.306 | SP Used: 16, SP Gain: 20 | E6S5 <5 enemies>\n",
      "DPAV: 15467.693 | SP Used: 16, SP Gain: 19 | E6S1 <5 enemies>\n",
      "DPAV: 12846.282 | SP Used: 16, SP Gain: 19 | E5S1 <5 enemies>\n",
      "DPAV: 12773.993 | SP Used: 16, SP Gain: 19 | E4S1 <5 enemies>\n",
      "DPAV: 12457.061 | SP Used: 15, SP Gain: 19 | E3S1 <5 enemies>\n",
      "DPAV: 12324.741 | SP Used: 15, SP Gain: 19 | E2S1 <5 enemies>\n",
      "DPAV: 11047.064 | SP Used: 15, SP Gain: 19 | E1S1 <5 enemies>\n",
      "DPAV: 10644.932 | SP Used: 15, SP Gain: 18 | E0S1 <5 enemies>\n",
      "\n",
      "DPAV: 10310.398 | SP Used: 16, SP Gain: 20 | E6S5 <2 enemies>\n",
      "DPAV: 9082.667 | SP Used: 16, SP Gain: 20 | E6S1 <2 enemies>\n",
      "DPAV: 7827.179 | SP Used: 16, SP Gain: 20 | E5S1 <2 enemies>\n",
      "DPAV: 7778.945 | SP Used: 16, SP Gain: 20 | E4S1 <2 enemies>\n",
      "DPAV: 7754.292 | SP Used: 15, SP Gain: 19 | E3S1 <2 enemies>\n",
      "DPAV: 7710.783 | SP Used: 15, SP Gain: 19 | E2S1 <2 enemies>\n",
      "DPAV: 6338.932 | SP Used: 15, SP Gain: 19 | E1S1 <2 enemies>\n",
      "DPAV: 5759.718 | SP Used: 16, SP Gain: 19 | E0S1 <2 enemies>\n"
     ]
    }
   ],
   "source": [
    "sig = Lightcones.Ninjitsu(Role.DPS, 1)\n",
    "f2p = Lightcones.CalculusRappa(Role.DPS, 5)\n",
    "eid = [6, 6, 5, 4, 3, 2, 1, 0]\n",
    "lcLevel = [5, 1, 1, 1, 1, 1, 1, 1]\n",
    "lst = [\"E0S1\", \"E1S1\", \"E2S1\", \"E3S1\", \"E4S1\", \"E5S1\", \"E6S1\", \"E6S5\"]\n",
    "lst.reverse()\n",
    "for i in range(8):\n",
    "    sig = Lightcones.Ninjitsu(Role.DPS, lcLevel[i])\n",
    "    rappa = Characters.Rappa(0, Role.DPS, 0, lc=sig, eidolon=eid[i], targetPrio=Priority.BROKEN)\n",
    "    rm = Characters.RuanMei(1, Role.SUP1, 0, eidolon=0, targetPrio=Priority.BROKEN)\n",
    "    hmc = Characters.HatBlazer(2, Role.SUP2, 0, eidolon=6, targetPrio=Priority.BROKEN, rotation=[\"E\"])\n",
    "    gal = Characters.Gallagher(3, Role.SUS, 0, eidolon=6, targetPrio=Priority.BROKEN)\n",
    "    print(startSimulator(cycles, s1=rappa, s2=rm, s3=hmc, s4=gal, enemyModule=fiveEnemies) + f\" | {lst[i] } <5 enemies>\")\n",
    "\n",
    "print()\n",
    "for i in range(8):\n",
    "    sig = Lightcones.Ninjitsu(Role.DPS, lcLevel[i])\n",
    "    rappa = Characters.Rappa(0, Role.DPS, 0, lc=sig, eidolon=eid[i], targetPrio=Priority.BROKEN)\n",
    "    rm = Characters.RuanMei(1, Role.SUP1, 0, eidolon=0, targetPrio=Priority.BROKEN)\n",
    "    hmc = Characters.HatBlazer(2, Role.SUP2, 0, eidolon=6, targetPrio=Priority.BROKEN, rotation=[\"E\"])\n",
    "    gal = Characters.Gallagher(3, Role.SUS, 0, eidolon=6, targetPrio=Priority.BROKEN)\n",
    "    print(startSimulator(cycles, s1=rappa, s2=rm, s3=hmc, s4=gal, enemyModule=twoEnemies) + f\" | {lst[i] } <2 enemies>\")\n"
   ]
  }
 ],
 "metadata": {
  "kernelspec": {
   "display_name": "Python 3",
   "language": "python",
   "name": "python3"
  },
  "language_info": {
   "codemirror_mode": {
    "name": "ipython",
    "version": 3
   },
   "file_extension": ".py",
   "mimetype": "text/x-python",
   "name": "python",
   "nbconvert_exporter": "python",
   "pygments_lexer": "ipython3",
   "version": "3.12.6"
  }
 },
 "nbformat": 4,
 "nbformat_minor": 2
}
