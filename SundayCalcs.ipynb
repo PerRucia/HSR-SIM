{
 "cells": [
  {
   "cell_type": "markdown",
   "metadata": {},
   "source": [
    "### Item Imports (Run this first!)"
   ]
  },
  {
   "cell_type": "code",
   "execution_count": 1,
   "metadata": {},
   "outputs": [],
   "source": [
    "from Misc import *\n",
    "from RelicStats import *\n",
    "from CombatSim import startSimulator\n",
    "from Enemy import EnemyModule\n",
    "import os\n",
    "\n",
    "folders = [\"Characters\", \"Lightcones\", \"Relics\", \"Planars\"]\n",
    "\n",
    "for folder in folders:\n",
    "    modules = [f[:-3] for f in os.listdir(folder) if f.endswith('.py') and f != '__init__.py']\n",
    "\n",
    "    init_file = os.path.join(folder, '__init__.py')\n",
    "    with open(init_file, 'w') as f:\n",
    "        for module_name in modules:\n",
    "            f.write(f\"from .{module_name} import *\\n\")\n",
    "\n",
    "fiveEnemies = EnemyModule(5, [85, 85, 85, 85, 85], [EnemyType.ADD, EnemyType.ELITE, EnemyType.BOSS, EnemyType.ADD, EnemyType.ADD], [100, 120, 144, 100, 100], [20, 60, 70, 20, 20], atkRatio, [Element.LIGHTNING], [1])\n",
    "twoEnemies = EnemyModule(2, [95, 95], [EnemyType.BOSS, EnemyType.ELITE], [158.4, 145.2], [160, 100], atkRatio, [Element.LIGHTNING], [1, 1, 2])"
   ]
  },
  {
   "cell_type": "markdown",
   "metadata": {},
   "source": [
    "### Jingyuan Calcs"
   ]
  },
  {
   "cell_type": "code",
   "execution_count": 2,
   "metadata": {},
   "outputs": [
    {
     "name": "stdout",
     "output_type": "stream",
     "text": [
      "JY Sparkle Tingyun HuoHuo\n",
      "DPAV: 7771.189 | SP Used: 27, SP Gain: 29 \n",
      "\n",
      "JY Sunday Jade Gallagher | -1 Spd E0S1 Sunday\n",
      "DPAV: 7997.514 | SP Used: 21, SP Gain: 21 \n",
      "\n"
     ]
    }
   ],
   "source": [
    "import Lightcones\n",
    "import Characters\n",
    "import Relics\n",
    "import Planars\n",
    "\n",
    "fastJY = RelicStats(6, 2, 0, 2, 4, 0, 4, 4, 4, 4, 7, 11, Pwr.CR_PERCENT, Pwr.SPD, Pwr.DMG_PERCENT, Pwr.ATK_PERCENT)\n",
    "baseJY = RelicStats(0, 2, 0, 2, 4, 0, 4, 4, 4, 4, 13, 11, Pwr.CR_PERCENT, Pwr.ATK_PERCENT, Pwr.DMG_PERCENT, Pwr.ATK_PERCENT)\n",
    "\n",
    "fastDay = RelicStats(14, 4, 0, 4, 4, 0, 4, 4, 4, 4, 0, 6, Pwr.CD_PERCENT, Pwr.SPD, Pwr.DEF_PERCENT, Pwr.HP_PERCENT)\n",
    "slowDay = RelicStats(4, 4, 0, 4, 4, 0, 4, 4, 4, 10, 0, 10, Pwr.CD_PERCENT, Pwr.SPD, Pwr.DEF_PERCENT, Pwr.HP_PERCENT)\n",
    "\n",
    "earthly = Lightcones.Earthly(Role.SUP1, level=1)\n",
    "ascent = Lightcones.AscentSunday(Role.SUP1, level=1, targetRole=Role.DPS)\n",
    "\n",
    "print(\"JY Sparkle Tingyun HuoHuo\")\n",
    "jy = Characters.Jingyuan(0, Role.DPS, 0, eidolon=0, targetPrio=Priority.DEFAULT)\n",
    "sp = Characters.Sparkle(1, Role.SUP1, 0, eidolon=0, targetPrio=Priority.DEFAULT, lc=earthly)\n",
    "ty = Characters.Tingyun(2, Role.SUP2, 0, eidolon=6, targetPrio=Priority.DEFAULT, beneTarget=Role.DPS)\n",
    "hh = Characters.HuoHuo(3, Role.SUS, 0, eidolon=0, targetPrio=Priority.DEFAULT)\n",
    "print(startSimulator(s1=jy, s2=sp, s3=ty, s4=hh, enemyModule=fiveEnemies), \"\\n\")\n",
    "\n",
    "print(\"JY Sunday Jade Gallagher | -1 Spd E0S1 Sunday\")\n",
    "jy = Characters.Jingyuan(0, Role.DPS, 2, eidolon=0, targetPrio=Priority.DEFAULT, subs=fastJY)\n",
    "sy = Characters.Sunday(1, Role.SUP1, 2, eidolon=0, rotation=[\"E\"], targetPrio=Priority.DEFAULT, targetRole=Role.DPS, lc=ascent, subs=fastDay)\n",
    "jade = Characters.Jade(2, Role.SUBDPS, 2, eidolon=0, targetPrio=Priority.DEFAULT, debtCollector=Role.DPS)\n",
    "gal = Characters.Gallagher(3, Role.SUS, 2, eidolon=6, targetPrio=Priority.DEFAULT)\n",
    "print(startSimulator(s1=jy, s2=sy, s3=jade, s4=gal, enemyModule=fiveEnemies), \"\\n\")"
   ]
  }
 ],
 "metadata": {
  "kernelspec": {
   "display_name": "base",
   "language": "python",
   "name": "python3"
  },
  "language_info": {
   "codemirror_mode": {
    "name": "ipython",
    "version": 3
   },
   "file_extension": ".py",
   "mimetype": "text/x-python",
   "name": "python",
   "nbconvert_exporter": "python",
   "pygments_lexer": "ipython3",
   "version": "3.12.4"
  }
 },
 "nbformat": 4,
 "nbformat_minor": 2
}
